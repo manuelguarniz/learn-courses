{
 "cells": [
  {
   "cell_type": "code",
   "execution_count": 1,
   "metadata": {},
   "outputs": [],
   "source": [
    "from tictactoe import initial_state, player, result\n",
    "from utils import suma_matrices\n",
    "\n",
    "X = \"X\"\n",
    "O = \"O\"\n",
    "EMPTY = None"
   ]
  },
  {
   "cell_type": "code",
   "execution_count": 2,
   "metadata": {},
   "outputs": [
    {
     "name": "stdout",
     "output_type": "stream",
     "text": [
      "ok\n"
     ]
    }
   ],
   "source": [
    "if \"X\" in [\"X\",\"O\"]:\n",
    "  print(\"ok\")\n",
    "else:\n",
    "  print(\"nok\")"
   ]
  },
  {
   "cell_type": "code",
   "execution_count": 3,
   "metadata": {},
   "outputs": [
    {
     "data": {
      "text/plain": [
       "'X'"
      ]
     },
     "execution_count": 3,
     "metadata": {},
     "output_type": "execute_result"
    }
   ],
   "source": [
    "player([[EMPTY, \"X\", \"O\"],\n",
    "            [\"X\", \"X\", EMPTY],\n",
    "            [EMPTY, EMPTY, EMPTY]])"
   ]
  },
  {
   "cell_type": "code",
   "execution_count": 5,
   "metadata": {},
   "outputs": [
    {
     "name": "stdout",
     "output_type": "stream",
     "text": [
      "[['X', None, None], ['X', None, None], [None, 'O', None]]\n"
     ]
    }
   ],
   "source": [
    "action = [[X, EMPTY, EMPTY],\n",
    "          [EMPTY, EMPTY, EMPTY],\n",
    "          [EMPTY, EMPTY, EMPTY]]\n",
    "\n",
    "initial = [[EMPTY, EMPTY, EMPTY],\n",
    "          [X, EMPTY, EMPTY],\n",
    "          [EMPTY, O, EMPTY]]\n",
    "# initial = initial_state()\n",
    "\n",
    "res_result = result(board=initial, action=action)\n",
    "  \n",
    "print(res_result)"
   ]
  },
  {
   "cell_type": "markdown",
   "metadata": {},
   "source": []
  },
  {
   "cell_type": "code",
   "execution_count": null,
   "metadata": {},
   "outputs": [],
   "source": [
    "current_state = [[\"X\", EMPTY, EMPTY],\n",
    "                [\"X\", \"O\", EMPTY],\n",
    "                [\"X\", \"O\", EMPTY]]"
   ]
  }
 ],
 "metadata": {
  "kernelspec": {
   "display_name": "readingFiles",
   "language": "python",
   "name": "python3"
  },
  "language_info": {
   "codemirror_mode": {
    "name": "ipython",
    "version": 3
   },
   "file_extension": ".py",
   "mimetype": "text/x-python",
   "name": "python",
   "nbconvert_exporter": "python",
   "pygments_lexer": "ipython3",
   "version": "3.9.19"
  }
 },
 "nbformat": 4,
 "nbformat_minor": 2
}
