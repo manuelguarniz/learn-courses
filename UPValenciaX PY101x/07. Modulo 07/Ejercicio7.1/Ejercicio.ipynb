{
 "cells": [
  {
   "cell_type": "markdown",
   "metadata": {},
   "source": [
    "Antes de empezar, asegúrate de que todo va segun lo esperado. Primero, **reinicia el kernel** (en la barra de menu, selecciona Kernel$\\rightarrow$Restart) y entonces **ejecuta todas las celdas** (en la barra de menu, selecciona Cell$\\rightarrow$Run All).\n",
    "\n",
    "Asegurate de rellenar cualquier lugar donde aparezca `YOUR CODE HERE` o `YOUR ANSWER HERE`."
   ]
  },
  {
   "cell_type": "markdown",
   "metadata": {},
   "source": [
    "# Enunciado de problema:\n",
    "\n",
    "En el archivo adjunto 'quijote.txt' hemos dejado los primeros párrafos del libro que comparte nombre con el archivo.\n",
    "\n",
    "La función **primerafrase(numerodeparrafo)** deberá abrir el archivo y devolver el contenido de la primera frase del párrafo indicado (siendo 0 el primer párrafo). La primera frase estará definida por los caracteres que se encuentran en el párrafo hasta llegar al primer símbolo de puntuación (cualquiera del grupo ,.:;), tal y como se muestra en el ejemplo a continuación.\n",
    "\n",
    "- primerafrase(0)\n",
    "- -> 'En un lugar de la Mancha'\n",
    "- primerafrase(2)\n",
    "- -> 'Con estas razones perdía el pobre caballero el juicio'"
   ]
  },
  {
   "cell_type": "code",
   "execution_count": 23,
   "metadata": {},
   "outputs": [
    {
     "name": "stdout",
     "output_type": "stream",
     "text": [
      "-> Con estas razones perdía el pobre caballero el juicio\n"
     ]
    }
   ],
   "source": [
    "#vuestro código tendrá que ir en el espacio reservado en esta celda\n",
    "import re\n",
    "\n",
    "regex = r\"[,:;.]\"\n",
    "\n",
    "# YOUR CODE HERE\n",
    "def devoler_frase_por_posicion(position):\n",
    "  archivo = open(\"quijote.txt\", \"r+\")\n",
    "  contar = 0\n",
    "  for linea in archivo.readlines():\n",
    "    print(\"\\n ============ \\n\")\n",
    "    print(linea)\n",
    "    for frase in re.split(regex, linea):\n",
    "      print(f\"[{contar}] {frase}\")\n",
    "      if position == contar:\n",
    "        print(\"-> \" + frase)\n",
    "      contar = contar + 1\n",
    "\n",
    "def primerafrase(position):\n",
    "  archivo = open(\"quijote.txt\", \"r+\")\n",
    "  contar = 0\n",
    "  for linea in archivo.readlines():\n",
    "    if \"\" == linea.strip():\n",
    "      continue\n",
    "    if position == contar:\n",
    "      frases = re.split(regex, linea)\n",
    "      print(\"-> \" + frases[0])\n",
    "    contar = contar + 1\n",
    "\n",
    "# primerafrase(0)\n",
    "primerafrase(2)"
   ]
  },
  {
   "cell_type": "markdown",
   "metadata": {},
   "source": [
    "<details>\n",
    "<summary>Pincha aqui para ver la solución</summary>\n",
    "<pre><code>\n",
    "def primerafrase(parrafo):\n",
    "    #primero cargamos el fichero\n",
    "    fichero = open('quijote.txt')\n",
    "    #lo leemos\n",
    "    texto = fichero.read()\n",
    "    #y seleccionamos el párrafo indicado en el parámetro \n",
    "    parrafos = texto.split('\\n')\n",
    "    #eliminamos los párrafos vacios tras el split \n",
    "    while '' in parrafos: \n",
    "        parrafos.remove('')    \n",
    "    parrafoseleccionado=parrafos[parrafo]\n",
    "    #vamos a buscar donde acabaría la primera frase buscamos los delimitadores que nos han pedido \n",
    "    #y añadimos sus posiciones a una lista\n",
    "    delimitadores =[]\n",
    "    delimitadores.append(parrafoseleccionado.find(','))\n",
    "    delimitadores.append(parrafoseleccionado.find('.'))\n",
    "    delimitadores.append(parrafoseleccionado.find(':'))\n",
    "    delimitadores.append(parrafoseleccionado.find(';'))\n",
    "    #quitamos los -1 que son delimitadores no encontrados y nos puede dar lugar a errores\n",
    "    while -1 in delimitadores: \n",
    "        delimitadores.remove(-1)\n",
    "    #y obtenemos el primero que aparece con el comando min (el menor es el primero)\n",
    "    finfrase = min(delimitadores)\n",
    "    \n",
    "    #nuestra frase sera pues\n",
    "    frase = parrafoseleccionado[:finfrase]\n",
    "    print(frase)\n",
    "    #acordaros de cerrar el fichero si no lo habeis abierto con un with\n",
    "    fichero.close()    \n",
    "    return(frase)\n",
    "<code><pre>\n",
    "</details>"
   ]
  },
  {
   "cell_type": "markdown",
   "metadata": {},
   "source": [
    "Este ejercicio es autoevaluable pincha en ver la solución para comprobar si lo has realizado correctamente."
   ]
  }
 ],
 "metadata": {
  "kernelspec": {
   "display_name": "Python 3",
   "language": "python",
   "name": "python3"
  },
  "language_info": {
   "codemirror_mode": {
    "name": "ipython",
    "version": 3
   },
   "file_extension": ".py",
   "mimetype": "text/x-python",
   "name": "python",
   "nbconvert_exporter": "python",
   "pygments_lexer": "ipython3",
   "version": "3.9.19"
  },
  "varInspector": {
   "cols": {
    "lenName": 16,
    "lenType": 16,
    "lenVar": 40
   },
   "kernels_config": {
    "python": {
     "delete_cmd_postfix": "",
     "delete_cmd_prefix": "del ",
     "library": "var_list.py",
     "varRefreshCmd": "print(var_dic_list())"
    },
    "r": {
     "delete_cmd_postfix": ") ",
     "delete_cmd_prefix": "rm(",
     "library": "var_list.r",
     "varRefreshCmd": "cat(var_dic_list()) "
    }
   },
   "types_to_exclude": [
    "module",
    "function",
    "builtin_function_or_method",
    "instance",
    "_Feature"
   ],
   "window_display": false
  }
 },
 "nbformat": 4,
 "nbformat_minor": 2
}
