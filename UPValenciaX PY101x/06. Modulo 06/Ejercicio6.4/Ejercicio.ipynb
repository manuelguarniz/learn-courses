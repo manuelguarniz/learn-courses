{
 "cells": [
  {
   "cell_type": "markdown",
   "metadata": {},
   "source": [
    "Antes de empezar, asegúrate de que todo va segun lo esperado. Primero, **reinicia el kernel** (en la barra de menu, selecciona Kernel$\\rightarrow$Restart) y entonces **ejecuta todas las celdas** (en la barra de menu, selecciona Cell$\\rightarrow$Run All).\n",
    "\n",
    "Asegurate de rellenar cualquier lugar donde aparezca `YOUR CODE HERE` o `YOUR ANSWER HERE`."
   ]
  },
  {
   "cell_type": "markdown",
   "metadata": {},
   "source": [
    "# Enunciado de problema:\n",
    "\n",
    "Escribe una función **cambiamayus** que dadas una cadena nos devuelva la misma cadena cambiando las mayusculas por minúsculas y viceversa.\n",
    "\n",
    "Ejemplo:\n",
    "\n",
    "- cambiamayus('Castilla')\n",
    "- -> 'cASTILLA'\n",
    "- cambiamayus('ENTretenido')\n",
    "- -> 'entRETENIDO'\n",
    "- cambiamayus('PaliNdrOmo')\n",
    "- -> 'pALInDRoMO'"
   ]
  },
  {
   "cell_type": "code",
   "execution_count": 7,
   "metadata": {},
   "outputs": [
    {
     "name": "stdout",
     "output_type": "stream",
     "text": [
      "#\n",
      "%.4\n",
      "0./\n"
     ]
    }
   ],
   "source": [
    "#vuestro código tendrá que ir en el espacio reservado en esta celda\n",
    "\n",
    "# YOUR CODE HERE\n",
    "\n",
    "def cambiamayus(texto):\n",
    "  nueva_palabra = \"\"\n",
    "  for word in texto:\n",
    "    if (ord(word) > 90):\n",
    "      nueva_palabra = nueva_palabra + chr(ord(word) + 32)\n",
    "    else:\n",
    "      nueva_palabra = nueva_palabra + chr(ord(word) - 32)\n",
    "      \n",
    "  return nueva_palabra\n",
    "\n",
    "print(cambiamayus('Castilla'))\n",
    "# 'cASTILLA'\n",
    "print(cambiamayus('ENTretenido'))\n",
    "# 'entRETENIDO'\n",
    "print(cambiamayus('PaliNdrOmo'))\n",
    "# 'pALInDRoMO'\n",
    "  \n",
    "# print(ord(\"C\")) # 67 (+32)\n",
    "# print(ord(\"c\")) # 99\n",
    "\n",
    "# print(ord(\"O\")) # 79 (+32)\n",
    "# print(ord(\"o\")) # 111\n",
    "\n",
    "# print(ord(\"A\")) # 65 (+32)\n",
    "# print(ord(\"a\")) # 97\n",
    "\n",
    "# print(ord(\"Z\")) # 90 (+32)\n",
    "# print(ord(\"z\")) # 122"
   ]
  },
  {
   "cell_type": "markdown",
   "metadata": {},
   "source": [
    "<details>\n",
    "<summary>Pincha aqui para ver la solución</summary>\n",
    "<pre><code>\n",
    "def cambiamayus(cadena):\n",
    "    resultado=''\n",
    "    for letra in cadena:\n",
    "        if letra.islower():\n",
    "            resultado += letra.upper()\n",
    "        else:\n",
    "            resultado += letra.lower()\n",
    "    return resultado\n",
    "\n",
    "<code><pre>\n",
    "</details>"
   ]
  },
  {
   "cell_type": "markdown",
   "metadata": {},
   "source": [
    "Este ejercicio es autoevaluable pincha en ver la solución para comprobar si lo has realizado correctamente."
   ]
  }
 ],
 "metadata": {
  "kernelspec": {
   "display_name": "Python 3",
   "language": "python",
   "name": "python3"
  },
  "language_info": {
   "codemirror_mode": {
    "name": "ipython",
    "version": 3
   },
   "file_extension": ".py",
   "mimetype": "text/x-python",
   "name": "python",
   "nbconvert_exporter": "python",
   "pygments_lexer": "ipython3",
   "version": "3.9.19"
  },
  "varInspector": {
   "cols": {
    "lenName": 16,
    "lenType": 16,
    "lenVar": 40
   },
   "kernels_config": {
    "python": {
     "delete_cmd_postfix": "",
     "delete_cmd_prefix": "del ",
     "library": "var_list.py",
     "varRefreshCmd": "print(var_dic_list())"
    },
    "r": {
     "delete_cmd_postfix": ") ",
     "delete_cmd_prefix": "rm(",
     "library": "var_list.r",
     "varRefreshCmd": "cat(var_dic_list()) "
    }
   },
   "types_to_exclude": [
    "module",
    "function",
    "builtin_function_or_method",
    "instance",
    "_Feature"
   ],
   "window_display": false
  }
 },
 "nbformat": 4,
 "nbformat_minor": 2
}
